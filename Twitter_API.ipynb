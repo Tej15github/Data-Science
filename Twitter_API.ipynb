{
  "nbformat": 4,
  "nbformat_minor": 0,
  "metadata": {
    "colab": {
      "name": "Twitter_API.ipynb",
      "provenance": [],
      "authorship_tag": "ABX9TyOtQ4S1/u78jzrUV42UZS4U",
      "include_colab_link": true
    },
    "kernelspec": {
      "name": "python3",
      "display_name": "Python 3"
    },
    "language_info": {
      "name": "python"
    }
  },
  "cells": [
    {
      "cell_type": "markdown",
      "metadata": {
        "id": "view-in-github",
        "colab_type": "text"
      },
      "source": [
        "<a href=\"https://colab.research.google.com/github/Tej15github/Data-Science/blob/main/Twitter_API.ipynb\" target=\"_parent\"><img src=\"https://colab.research.google.com/assets/colab-badge.svg\" alt=\"Open In Colab\"/></a>"
      ]
    },
    {
      "cell_type": "code",
      "source": [
        "import tweepy\n",
        "auth = tweepy.OAuthHandler(\"Ba3Ybr8cvKVaE3KLQYNft1LqD\", \"SJtBg4CeiA0nAHbsjB9RdtDncldUKkexBSWCmbRs5TUCHGqKPP\")\n",
        "auth.set_access_token(\"1511260889910968321-TVn62yqUaqEZ5BvoPbjIsCHzljjOch\", \"xxlOyayGFkSCJXGSX2TWjJPYZuKki1nklawM7hemDGJdH\")\n",
        "api = tweepy.API(auth)"
      ],
      "metadata": {
        "id": "RNdPT-6und_V"
      },
      "execution_count": 19,
      "outputs": []
    },
    {
      "cell_type": "code",
      "source": [
        "tweets = api.home_timeline()\n",
        "for tweet in tweets:\n",
        "    print(tweet.text)"
      ],
      "metadata": {
        "colab": {
          "base_uri": "https://localhost:8080/"
        },
        "id": "qBlCs8donyRv",
        "outputId": "557c7213-5bd2-40c4-aae5-f88c71813193"
      },
      "execution_count": 20,
      "outputs": [
        {
          "output_type": "stream",
          "name": "stdout",
          "text": [
            "RT @TOIMumbai: Traffic jam on eastern express highway due to flyover repair at between Vikhroli kanjur Marg in #Mumbai on Monday. https://t…\n"
          ]
        }
      ]
    }
  ]
}