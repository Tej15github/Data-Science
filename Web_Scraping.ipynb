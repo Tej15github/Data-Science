{
  "nbformat": 4,
  "nbformat_minor": 0,
  "metadata": {
    "colab": {
      "name": "Web_Scraping.ipynb",
      "provenance": [],
      "collapsed_sections": [],
      "authorship_tag": "ABX9TyMCpsQbrK6mAhMHWcg2a+GU",
      "include_colab_link": true
    },
    "kernelspec": {
      "name": "python3",
      "display_name": "Python 3"
    },
    "language_info": {
      "name": "python"
    }
  },
  "cells": [
    {
      "cell_type": "markdown",
      "metadata": {
        "id": "view-in-github",
        "colab_type": "text"
      },
      "source": [
        "<a href=\"https://colab.research.google.com/github/Tej15github/Data-Science/blob/main/Web_Scraping.ipynb\" target=\"_parent\"><img src=\"https://colab.research.google.com/assets/colab-badge.svg\" alt=\"Open In Colab\"/></a>"
      ]
    },
    {
      "cell_type": "code",
      "source": [
        "import bs4  \n",
        "import requests  \n",
        "import pandas as pd\n",
        "  \n",
        "LaptopName = []\n",
        "price = []  \n",
        "#Creating the requests  \n",
        "  \n",
        "res = requests.get(\"https://www.dell.com/en-in/shop/scc/sr/laptops/inspiron-laptops?gacd=10415953-9015-5761040-286089351-0&dgc=ST&gclid=CjwKCAjwkMeUBhBuEiwA4hpqEFUIXLrROq93aDLLSab6YIKsbqeSZRTgeecdPLNtbTbYE0i_mKPMDRoCa_UQAvD_BwE&gclsrc=aw.ds&nclid=A0PKD8DeoDvq5BLv96zg50eIRtENuLf3PtVqkWWHUT7ksDsypk1ZFqW7jr2FOwP2\")  \n",
        "print(\"The object type:\",type(res))  \n",
        "  \n",
        "# Convert the request object to the Beautiful Soup Object  \n",
        "soup = bs4.BeautifulSoup(res.text,'html5lib')  \n",
        "print(\"The object type:\",type(soup))  \n",
        "soup.select('.mw-headline')  \n",
        "for i in soup.select(\".sr-only\"):  \n",
        "  print(i.text,end = ',')  \n"
      ],
      "metadata": {
        "colab": {
          "base_uri": "https://localhost:8080/"
        },
        "id": "8UZlnTD4UWIS",
        "outputId": "80b36271-d56a-43b8-a958-491b8163386d"
      },
      "execution_count": 11,
      "outputs": [
        {
          "output_type": "stream",
          "name": "stdout",
          "text": [
            "The object type: <class 'requests.models.Response'>\n",
            "The object type: <class 'bs4.BeautifulSoup'>\n",
            "Dell Price,Dell Price,Dell Price,Dell Price,Dell Price,Dell Price,Dell Price,Dell Price,Dell Price,Dell Price,Dell Price,Dell Price,"
          ]
        }
      ]
    },
    {
      "cell_type": "code",
      "source": [
        "import bs4  \n",
        "import requests  \n",
        "import pandas as pd\n",
        "  \n",
        "LaptopName = []\n",
        "price = []  \n",
        "#Creating the requests  \n",
        "  \n",
        "res = requests.get(\"https://www.flipkart.com/laptops-store\")  \n",
        "print(\"The object type:\",type(res))  \n",
        "  \n",
        "# Convert the request object to the Beautiful Soup Object  \n",
        "soup = bs4.BeautifulSoup(res.text,'html5lib')  \n",
        "print(\"The object type:\",type(soup))  \n",
        "soup.select('.mw-headline')  \n",
        "for i in soup.select(\"._3LWZlK\"):  \n",
        "  print(i.text,end = ',')  \n"
      ],
      "metadata": {
        "colab": {
          "base_uri": "https://localhost:8080/"
        },
        "id": "F8CK5ddUbRgi",
        "outputId": "0fb96faa-6500-42b7-e720-c3ff682ffa7d"
      },
      "execution_count": 17,
      "outputs": [
        {
          "output_type": "stream",
          "name": "stdout",
          "text": [
            "The object type: <class 'requests.models.Response'>\n",
            "The object type: <class 'bs4.BeautifulSoup'>\n",
            "4.3,4.3,4.5,4.3,4.5,4.3,4.4,4.5,4.5,4.3,4.3,4.3,3.7,3.5,3.5,4.2,3.8,3.4,4,4.1,3.8,4.1,3.8,3.8,"
          ]
        }
      ]
    }
  ]
}